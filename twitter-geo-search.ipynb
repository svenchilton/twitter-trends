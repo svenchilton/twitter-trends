{
 "cells": [
  {
   "cell_type": "code",
   "execution_count": 17,
   "metadata": {
    "collapsed": false
   },
   "outputs": [],
   "source": [
    "%matplotlib inline\n",
    "import twitter\n",
    "import json\n",
    "import pandas as pd\n",
    "import numpy as np\n",
    "import time\n",
    "import subprocess\n",
    "#import matplotlib.pyplot as plt\n",
    "\n",
    "# Import unquote to prevent url encoding errors in next_results\n",
    "# The urllib module is split into urllib.parse, urllib.request, \n",
    "# and urllib.error in Python 3\n",
    "# If running this in Python 2, change urllib.parse to urllib\n",
    "from urllib import unquote,urlencode\n"
   ]
  },
  {
   "cell_type": "code",
   "execution_count": 2,
   "metadata": {
    "collapsed": true
   },
   "outputs": [],
   "source": [
    "# OAuth login function for instantiating Twitter API object\n",
    "def oauth_login():\n",
    "    # XXX: Go to http://twitter.com/apps/new to create an app and get values\n",
    "    # for these credentials that you'll need to provide in place of these\n",
    "    # empty string values that are defined as placeholders.\n",
    "    # See https://dev.twitter.com/docs/auth/oauth for more information \n",
    "    # on Twitter's OAuth implementation.\n",
    "    CONSUMER_KEY = ''\n",
    "    CONSUMER_SECRET = ''\n",
    "    OAUTH_TOKEN = '250500792-'\n",
    "    OAUTH_TOKEN_SECRET = ''\n",
    "\n",
    "    auth = twitter.oauth.OAuth(OAUTH_TOKEN, OAUTH_TOKEN_SECRET,\n",
    "                               CONSUMER_KEY, CONSUMER_SECRET)\n",
    "    \n",
    "    twitter_api = twitter.Twitter(auth=auth)\n",
    "    return twitter_api"
   ]
  },
  {
   "cell_type": "code",
   "execution_count": 3,
   "metadata": {
    "collapsed": false
   },
   "outputs": [],
   "source": [
    "# Find the up to 600 most recent tweets containing a given hashtag\n",
    "# The returned object contains a massive amount of data\n",
    "def find_tweets(hashtag):\n",
    "    # Ensure that the hashtag argument is a string\n",
    "    assert type(hashtag) == str, 'Argument hashtag must be a string'\n",
    "    # Ensure that the hashtag argument is, indeed, a hashtag \n",
    "    # in quotes, i.e. a string beginning with a pound sign\n",
    "    #assert hashtag[0] == '#', 'hashtag string must begin with a #'\n",
    "    # Instantiate the Twitter API object \n",
    "    twitter_api = oauth_login()\n",
    "    # Begin searching the Twitter API for tweets containing hashtag\n",
    "    # Twitter only lets you find 100 tweets at a time \n",
    "    # (by default, the 100 most recent)\n",
    "    search_results = twitter_api.search.tweets(q=hashtag, count=100, result_type='recent',\n",
    "                                              #geocode = '37.7821120598956,-122.400612831116,1000mi')\n",
    "                                                geocode = '39.8,-95.58306884,2500km');\n",
    "    # Extract the information on the (up to) 100 most recent tweets\n",
    "    # as a list\n",
    "    statuses = search_results['statuses'] \n",
    "    # Iterate through 5 more batches of results by following the cursor \n",
    "    # back in time\n",
    "    for _ in range(30):\n",
    "        #print(\"Length of statuses\", len(statuses))\n",
    "        try:\n",
    "            next_results = search_results['search_metadata']['next_results']\n",
    "        # The as statement is required in Python 3  \n",
    "        # A comma would be required instead for Python 2.5 and earlier  \n",
    "        # Python 2.6 and 2.7 support both the comma and the as statement\n",
    "        except KeyError as e: # No more results when next_results doesn't exist\n",
    "            break\n",
    "        \n",
    "        # Create a dictionary from next_results, which has the following form:\n",
    "        # ?max_id=313519052523986943&q=NCAA&include_entities=1\n",
    "        kwargs = dict([kv.split('=') for kv in unquote(next_results[1:]).split(\"&\") ])    \n",
    "        \n",
    "        # Search for the 100 next most recent tweets\n",
    "        search_results = twitter_api.search.tweets(**kwargs)\n",
    "        # Append the results of the last search to the statuses list\n",
    "        statuses += search_results['statuses']\n",
    "        \n",
    "    return statuses\n",
    "    \n"
   ]
  },
  {
   "cell_type": "code",
   "execution_count": 4,
   "metadata": {
    "collapsed": true
   },
   "outputs": [],
   "source": [
    "# Resample/re-bin the time stamps to get a count of the tweets\n",
    "# by time interval, which will vary by the the difference between\n",
    "# the first and last time stamps\n",
    "def resample_time_stamps(time_df, time_index):\n",
    "    # Ensure that time_df is a DataFrame\n",
    "    # The assert statement looks like this because \n",
    "    # we imported pandas as pd\n",
    "    assert type(time_df) == pd.core.frame.DataFrame, 'Argument must be a pandas DataFrame'\n",
    "    \n",
    "    # Determine the range of times\n",
    "    diff_year   = abs(time_index[0].year   - time_index[-1].year)\n",
    "    diff_month  = abs(time_index[0].month  - time_index[-1].month)\n",
    "    diff_day    = abs(time_index[0].day    - time_index[-1].day)\n",
    "    diff_hour   = abs(time_index[0].hour   - time_index[-1].hour)\n",
    "    diff_minute = abs(time_index[0].minute - time_index[-1].minute)\n",
    "    diff_second = abs(time_index[0].second - time_index[-1].second)\n",
    "    # Use the range of times to resample the data, \n",
    "    # and thus determine the plot format\n",
    "    # Perhaps adjust this later\n",
    "    if diff_year > 0:\n",
    "        # Resample/bucket by month\n",
    "        # The fillna(0) command fills any bins with NaN in them with 0s\n",
    "        time_df = time_df.resample('M', how='sum').fillna(0)\n",
    "        bin_width = 'month'\n",
    "    elif diff_month > 0:\n",
    "        if diff_month > 4:\n",
    "            # Resample by week\n",
    "            time_df = time_df.resample('W', how='sum').fillna(0)\n",
    "            bin_width = 'week'\n",
    "        else: \n",
    "            # Resample by day\n",
    "            time_df = time_df.resample('D', how='sum').fillna(0)\n",
    "            bin_width = 'day'\n",
    "    elif diff_day > 0:\n",
    "        if diff_day <= 10:\n",
    "            # Resample by hour\n",
    "            time_df = time_df.resample('H', how='sum').fillna(0)\n",
    "            bin_width = 'hour'\n",
    "        elif diff_day <= 21:\n",
    "            # Resample by 6 hours\n",
    "            time_df = time_df.resample('6H', how='sum').fillna(0)\n",
    "            bin_width = '6 hours'\n",
    "        else: \n",
    "            # Resample by day\n",
    "            time_df = time_df.resample('D', how='sum').fillna(0)\n",
    "            bin_width = 'day'\n",
    "    elif diff_hour > 0:\n",
    "        if diff_hour <= 3:\n",
    "            # Resample by minute\n",
    "            time_df = time_df.resample('T', how='sum').fillna(0)\n",
    "            bin_width = 'minute'\n",
    "        elif diff_hour <= 12:\n",
    "            # Resample by 5 minutes\n",
    "            time_df = time_df.resample('5T', how='sum').fillna(0)\n",
    "            bin_width = '5 minutes'\n",
    "        else: \n",
    "            # Resample by 10 minutes\n",
    "            time_df = time_df.resample('10T', how='sum').fillna(0)\n",
    "            bin_width = '10 minutes'\n",
    "    elif diff_minute > 0:\n",
    "        if diff_minute <= 3:\n",
    "            # Resample by second\n",
    "            time_df = time_df.resample('S', how='sum').fillna(0)\n",
    "            bin_width = 'second'\n",
    "        elif diff_minute <= 12:\n",
    "            # Resample by 5 seconds\n",
    "            time_df = time_df.resample('5S', how='sum').fillna(0)\n",
    "            bin_width = '5 seconds'\n",
    "        else: \n",
    "            # Resample by 10 seconds\n",
    "            time_df = time_df.resample('10S', how='sum').fillna(0)\n",
    "            bin_width = '10 seconds'\n",
    "    elif abs(time_index[0].second - time_index[-1].second) > 0:\n",
    "        # Resample/bucket (reorder) by second\n",
    "        time_df = time_df.resample('S', how='sum').fillna(0)\n",
    "        bin_width = 'second'\n",
    "    else: \n",
    "        # Resample/bucket (reorder) by second\n",
    "        time_df = time_df.resample('S', how='sum').fillna(0)\n",
    "        bin_width = 'second'\n",
    "    \n",
    "    return time_df, bin_width"
   ]
  },
  {
   "cell_type": "code",
   "execution_count": 41,
   "metadata": {
    "collapsed": false
   },
   "outputs": [],
   "source": [
    "# Plot the time distribution of the (up to) 600 \n",
    "# most recent tweets containing the desired hashtag\n",
    "# Also returns a DataFrame containing the times \n",
    "# and locations (if available) of the tweets\n",
    "def map_tweets(hashtag):\n",
    "    # Ensure that the hashtag argument is a string\n",
    "    #assert type(hashtag) == str, 'Argument hashtag must be a string'\n",
    "    # Ensure that the hashtag argument is, indeed, a hashtag \n",
    "    # in quotes, i.e. a string beginning with a pound sign\n",
    "    #assert hashtag[0] == '#', 'hashtag string must begin with a #'\n",
    "    \n",
    "    # Get all the data on the most recent tweets\n",
    "    statuses = find_tweets(hashtag)\n",
    "    print 'Found ',len(statuses),' tweets'\n",
    "    # Initialize and populate a NumPy array with \n",
    "    # the time stamps of the tweets contained in \n",
    "    # statuses, in reverse chronological order\n",
    "    time_stamps = np.array([])\n",
    "#     for i in range(len(statuses)):\n",
    "#         time_stamps = np.append(time_stamps, statuses[i]['created_at'])\n",
    "    \n",
    "    # Initialize and populate a NumPy array with \n",
    "    # the coordinates of the tweets contained in \n",
    "    # statuses, if available\n",
    "    coordinates = np.array([])\n",
    "     \n",
    "    #     #print json.dumps(statuses[10], indent=1) \n",
    "    #     for i in range(len(statuses)):\n",
    "    #         if 'coordinates' in statuses[i]['coordinates']: \n",
    "    #             coordinates = np.append(coordinates, statuses[i]['coordinates']) \n",
    "    #         else:\n",
    "\n",
    "    #         #print json.dumps(statuses[i], indent=1) \n",
    "    \n",
    "    locationInfo = [];\n",
    "    \n",
    "    for i in range(len(statuses)):\n",
    "        if 'coordinates' in statuses[i]:\n",
    "            if statuses[i]['coordinates'] is not None:\n",
    "                coordinates = np.append(coordinates, statuses[i]['coordinates']) \n",
    "                time_stamps = np.append(time_stamps, statuses[i]['created_at'])\n",
    "                element = {};\n",
    "                element['type'] = 'Feature';\n",
    "                element['properties'] ={'timestamp':statuses[i]['created_at']};#,'hashtag':hashtag};\n",
    "                s = statuses[i]['coordinates'];\n",
    "                element['geometry'] = s; \n",
    "                locationInfo.append(element);\n",
    "                \n",
    "            #print json.dumps(statuses[i]['coordinates'],indent=1)\n",
    "            #             elif 'place' in statuses[i]:\n",
    "            #                 if 'bounding_box' in statuses[i]['place']:\n",
    "            #                     #print json.dumps(statuses[i]['place']['bounding_box'],indent=1)\n",
    "            #                     coordinates = np.append(coordinates, statuses[i]['place']['bounding_box'])\n",
    "\n",
    "   \n",
    "    # Create an array of ones for every tweet\n",
    "    ones_array = np.ones(len(time_stamps))\n",
    "    # Create a Pandas DatetimeIndex of the time stamps\n",
    "    time_index = pd.DatetimeIndex(time_stamps)\n",
    "    # Create a Pandas DataFrame showing one tweet \n",
    "    # for each time stamp\n",
    "    time_df = pd.DataFrame(ones_array, index=time_index, columns=['Tweets'])\n",
    "    # Create a DataFrame associating a location with \n",
    "    # each time stamp, if available\n",
    "    coord_df = pd.DataFrame(coordinates, index=time_index, columns=['Coordinates'])\n",
    "    \n",
    "    # Resample the DataFrame time_df\n",
    "    time_df, bin_width = resample_time_stamps(time_df, time_index)\n",
    "    \n",
    "    \n",
    "    \n",
    "    \n",
    "    # Create the plot\n",
    "    time_plot = time_df.plot(legend=False)\n",
    "    time_plot.set_xlabel('Date/Time')\n",
    "    time_plot.set_ylabel('Tweets per '+ bin_width)\n",
    "    time_plot.set_title('Frequency of tweets containing hashtag '+hashtag)\n",
    "    \n",
    "    \n",
    "    #GeoJSON Formatting of the features \n",
    "    \n",
    "    return time_plot, coord_df, locationInfo\n"
   ]
  },
  {
   "cell_type": "code",
   "execution_count": 43,
   "metadata": {
    "collapsed": false
   },
   "outputs": [
    {
     "name": "stdout",
     "output_type": "stream",
     "text": [
      "Found  1070  tweets\n",
      "found  1010  tweets about  #BlueMoon\n",
      "1010\n",
      "{\"id\":\"b04b8096-9cd3-4c13-a651-1d8e86514237\",\"user_id\":\"cb679e50-583c-45f9-840f-978bac88fc0a\",\"table_id\":null,\"data_type\":\"url\",\"table_name\":null,\"state\":\"uploading\",\"error_code\":null,\"queue_id\":\"b04b8096-9cd3-4c13-a651-1d8e86514237\",\"tables_created_count\":null,\"synchronization_id\":null,\"type_guessing\":true,\"quoted_fields_guessing\":true,\"content_guessing\":false,\"create_visualization\":true,\"visualization_id\":null,\"user_defined_limits\":\"{\\\"twitter_credits_limit\\\":0}\",\"get_error_text\":null,\"display_name\":\"friday_oneSearch_merged_%23BlueMoon.geojson\"}\n"
     ]
    },
    {
     "data": {
      "image/png": "[encoded data removed]",
      "text/plain": [
       "<matplotlib.figure.Figure at 0x10cc2cf90>"
      ]
     },
     "metadata": {},
     "output_type": "display_data"
    }
   ],
   "source": [
    "twobject = oauth_login();\n",
    "allLocations = [];\n",
    "#hashtags = ['\\\"Donald Trump\\\"', 'DonaldTrump','Trump2016',\n",
    "#            '\\\"Hillary Clinton\\\"','Hillary2016','HillaryClinton'];\n",
    "\n",
    "\n",
    "hashtags =['#BlueMoon'];\n",
    "\n",
    "for hashtag in hashtags:\n",
    "    timePlot, coordinates, lcInfo = map_tweets(hashtag); \n",
    "    allLocations += lcInfo;\n",
    "    print 'found ',len(allLocations),' tweets about ',hashtag\n",
    "    \n",
    "lcInfo={};\n",
    "lcInfo['type']=\"FeatureCollection\";\n",
    "lcInfo['features']=allLocations;\n",
    "\n",
    "outputFile = 'friday_oneSearch_merged_'+hashtag+'.geojson';\n",
    "print len(lcInfo['features'])\n",
    "with open(outputFile, 'w') as outfile:\n",
    "    json.dump(lcInfo, outfile)\n",
    "\n",
    "command=\"curl -v -F file=@\"+outputFile+\" \\\"https://ilgeakkaya.cartodb.com/api/v1/imports/?api_key=&create_vis=true\\\"\";\n",
    "\n",
    "\n",
    "#TODO: Add table name\n",
    "\n",
    "result = subprocess.check_output(command, shell=True)\n",
    "resj = json.loads(result) \n",
    "\n",
    "if resj['success']:\n",
    "    statusOfImport= \"curl -v \\\"https://ilgeakkaya.cartodb.com/api/v1/imports/\"+str(resj['item_queue_id'])+\"?api_key=\\\"\";\n",
    "    res2 = subprocess.check_output(statusOfImport, shell=True)\n",
    "    \n",
    "print res2"
   ]
  },
  {
   "cell_type": "code",
   "execution_count": 46,
   "metadata": {
    "collapsed": false
   },
   "outputs": [
    {
     "name": "stdout",
     "output_type": "stream",
     "text": [
      "{\"id\":\"628f4a00-ebb2-4bd9-8659-78b3b0162617\",\"user_id\":\"cb679e50-583c-45f9-840f-978bac88fc0a\",\"table_id\":\"f8ca313f-5d68-4a85-b8b4-43db8b22fc3d\",\"data_type\":\"url\",\"table_name\":\"friday_onesearch_merged_23bluemoon_1\",\"state\":\"complete\",\"error_code\":null,\"queue_id\":\"628f4a00-ebb2-4bd9-8659-78b3b0162617\",\"tables_created_count\":1,\"synchronization_id\":null,\"type_guessing\":true,\"quoted_fields_guessing\":true,\"content_guessing\":false,\"create_visualization\":false,\"visualization_id\":null,\"user_defined_limits\":\"{\\\"twitter_credits_limit\\\":0}\",\"get_error_text\":null,\"display_name\":\"friday_oneSearch_merged_%23BlueMoon.geojson\",\"success\":true,\"any_table_raster\":false,\"derived_visualization_id\":null}\n"
     ]
    }
   ],
   "source": [
    "iqi = '628f4a00-ebb2-4bd9-8659-78b3b0162617';\n",
    "#iqi = '3d90474c-3811-11e5-bede-0e5e07bb5d8a';\n",
    "if resj['success']:\n",
    "    statusOfImport= \"curl -v \\\"https://ilgeakkaya.cartodb.com/api/v1/imports/\"+iqi+\"?api_key=\\\"\";\n",
    "    res2 = subprocess.check_output(statusOfImport, shell=True)\n",
    "    "
   ]
  },
  {
   "cell_type": "code",
   "execution_count": 55,
   "metadata": {
    "collapsed": false
   },
   "outputs": [
    {
     "name": "stdout",
     "output_type": "stream",
     "text": [
      "{\n",
      " \"quoted_fields_guessing\": true, \n",
      " \"derived_visualization_id\": null, \n",
      " \"user_id\": \"cb679e50-583c-45f9-840f-978bac88fc0a\", \n",
      " \"create_visualization\": false, \n",
      " \"data_type\": \"url\", \n",
      " \"any_table_raster\": false, \n",
      " \"visualization_id\": null, \n",
      " \"type_guessing\": true, \n",
      " \"get_error_text\": null, \n",
      " \"success\": true, \n",
      " \"synchronization_id\": null, \n",
      " \"display_name\": \"friday_oneSearch_merged_%23BlueMoon.geojson\", \n",
      " \"user_defined_limits\": \"{\\\"twitter_credits_limit\\\":0}\", \n",
      " \"state\": \"complete\", \n",
      " \"table_id\": \"f8ca313f-5d68-4a85-b8b4-43db8b22fc3d\", \n",
      " \"tables_created_count\": 1, \n",
      " \"queue_id\": \"628f4a00-ebb2-4bd9-8659-78b3b0162617\", \n",
      " \"table_name\": \"friday_onesearch_merged_23bluemoon_1\", \n",
      " \"error_code\": null, \n",
      " \"id\": \"628f4a00-ebb2-4bd9-8659-78b3b0162617\", \n",
      " \"content_guessing\": false\n",
      "}\n"
     ]
    }
   ],
   "source": [
    "\n",
    "convertTimestamp = \"curl -v \\\"https://ilgeakkaya.cartodb.com/api/v1/imports/q=SELECT *,timestamp::date timestamp2 FROM\"+res2['table_name']+\"&api_key=\\\"\";\n",
    "res3 = subprocess.check_output(statusOfImport, shell=True)\n",
    "\n",
    "print json.dumps(json.loads(res3), indent=1)"
   ]
  },
  {
   "cell_type": "code",
   "execution_count": 50,
   "metadata": {
    "collapsed": false
   },
   "outputs": [
    {
     "name": "stdout",
     "output_type": "stream",
     "text": [
      "friday_onesearch_merged_23bluemoon_1\n"
     ]
    }
   ],
   "source": [
    "print res2['table_name']"
   ]
  },
  {
   "cell_type": "code",
   "execution_count": 7,
   "metadata": {
    "collapsed": false
   },
   "outputs": [
    {
     "name": "stdout",
     "output_type": "stream",
     "text": [
      "Status: 401\n",
      "Status: 1.522703\n"
     ]
    }
   ],
   "source": [
    "\n",
    "c = pycurl.Curl() \n",
    "c.setopt(c.POST, 1)\n",
    "c.setopt(c.USERAGENT, 'Curl')\n",
    "c.setopt(c.VERBOSE, 1) \n",
    "ACCESS_TOKEN=\"\"\n",
    "c.setopt(c.HTTPHEADER, [\n",
    "    'auth_token: %s' % str(ACCESS_TOKEN),\n",
    "    'Content-Type: multipart/related',\n",
    "])\n",
    "filepath=\"/Users/oldilge/Google Drive/twitter-trends/\"+outputFile;\n",
    "c.setopt(c.URL,\"https://ilgeakkaya.cartodb.com/api/v1/imports/\")\n",
    "\n",
    "data = [ \n",
    "    ('file', (\n",
    "        c.FORM_FILE, outputFile, \n",
    "        c.FORM_CONTENTTYPE, 'application/geojson')) \n",
    "]\n",
    "\n",
    "post_data = {'auth_token':str(ACCESS_TOKEN),\n",
    "            'table_name':outputFile};\n",
    "postfields = urlencode(post_data)\n",
    "c.setopt(c.POSTFIELDS,postfields)\n",
    "c.setopt(c.HTTPPOST, data)\n",
    "c.setopt(c.SSL_VERIFYPEER, 0) \n",
    "c.perform()\n",
    "\n",
    "# HTTP response code, e.g. 200.\n",
    "print('Status: %d' % c.getinfo(c.RESPONSE_CODE))\n",
    "# Elapsed time for the transfer.\n",
    "print('Status: %f' % c.getinfo(c.TOTAL_TIME))\n",
    "c.close()\n",
    "\n"
   ]
  },
  {
   "cell_type": "code",
   "execution_count": 170,
   "metadata": {
    "collapsed": false
   },
   "outputs": [
    {
     "ename": "NameError",
     "evalue": "name 'FileImport' is not defined",
     "output_type": "error",
     "traceback": [
      "\u001b[0;31m---------------------------------------------------------------------------\u001b[0m",
      "\u001b[0;31mNameError\u001b[0m                                 Traceback (most recent call last)",
      "\u001b[0;32m<ipython-input-170-39f9611e2adf>\u001b[0m in \u001b[0;36m<module>\u001b[0;34m()\u001b[0m\n\u001b[1;32m      7\u001b[0m \u001b[0;34m\u001b[0m\u001b[0m\n\u001b[1;32m      8\u001b[0m \u001b[0;34m\u001b[0m\u001b[0m\n\u001b[0;32m----> 9\u001b[0;31m \u001b[0mfi\u001b[0m \u001b[0;34m=\u001b[0m \u001b[0mFileImport\u001b[0m\u001b[0;34m(\u001b[0m\u001b[0mfilepath\u001b[0m\u001b[0;34m,\u001b[0m \u001b[0mcl\u001b[0m\u001b[0;34m)\u001b[0m\u001b[0;34m\u001b[0m\u001b[0m\n\u001b[0m\u001b[1;32m     10\u001b[0m \u001b[0mfi\u001b[0m\u001b[0;34m.\u001b[0m\u001b[0mrun\u001b[0m\u001b[0;34m(\u001b[0m\u001b[0;34m)\u001b[0m\u001b[0;34m\u001b[0m\u001b[0m\n\u001b[1;32m     11\u001b[0m \u001b[0;34m\u001b[0m\u001b[0m\n",
      "\u001b[0;31mNameError\u001b[0m: name 'FileImport' is not defined"
     ]
    }
   ],
   "source": [
    "#Moving on to CartoDB\n",
    "from cartodb import CartoDBAPIKey, CartoDBException\n",
    "\n",
    "API_KEY=\"\" #redacted\n",
    "cartodb_domain = 'ilgeakkaya'\n",
    "cl = CartoDBAPIKey(API_KEY, cartodb_domain)\n",
    " \n",
    "    \n",
    "fi = FileImport(filepath, cl)\n",
    "fi.run()\n",
    "\n"
   ]
  },
  {
   "cell_type": "code",
   "execution_count": 1,
   "metadata": {
    "collapsed": false
   },
   "outputs": [
    {
     "name": "stdout",
     "output_type": "stream",
     "text": [
      "0\n",
      "1\n",
      "2\n"
     ]
    }
   ],
   "source": [
    "for  i in range(3):\n",
    "    print i\n",
    "    "
   ]
  },
  {
   "cell_type": "code",
   "execution_count": null,
   "metadata": {
    "collapsed": true
   },
   "outputs": [],
   "source": []
  }
 ],
 "metadata": {
  "kernelspec": {
   "display_name": "Python 2",
   "language": "python",
   "name": "python2"
  },
  "language_info": {
   "codemirror_mode": {
    "name": "ipython",
    "version": 2
   },
   "file_extension": ".py",
   "mimetype": "text/x-python",
   "name": "python",
   "nbconvert_exporter": "python",
   "pygments_lexer": "ipython2",
   "version": "2.7.10"
  }
 },
 "nbformat": 4,
 "nbformat_minor": 0
}
